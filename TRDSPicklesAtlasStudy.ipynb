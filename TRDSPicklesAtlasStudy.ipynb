{
 "cells": [
  {
   "cell_type": "code",
   "execution_count": 1,
   "id": "611f4bf2",
   "metadata": {},
   "outputs": [],
   "source": [
    "import numpy as np\n",
    "import matplotlib.pyplot as plt\n",
    "import math \n",
    "import astropy\n",
    "import pandas as pd\n",
    "from scipy.interpolate import interp1d\n",
    "from scipy.integrate import trapezoid\n",
    "import matplotlib.colors as col"
   ]
  },
  {
   "cell_type": "code",
   "execution_count": 2,
   "id": "611535c0",
   "metadata": {},
   "outputs": [],
   "source": [
    "filter_u = pd.read_csv(\"/Users/lauragaravito/Downloads/Assignment5/filters/U153.dat\", sep=\"\\s+\", header=None, skiprows=1, names=[\"id\", \"wavelength\", \"transmission\"])\n",
    "filter_v = pd.read_csv(\"/Users/lauragaravito/Downloads/Assignment5/filters/V155.dat\", sep=\"\\s+\", header=None, skiprows=1, names=[\"id\", \"wavelength\", \"transmission\"])\n",
    "filter_b = pd.read_csv(\"/Users/lauragaravito/Downloads/Assignment5/filters/B154.dat\", sep=\"\\s+\", header=None, skiprows=1, names=[\"id\", \"wavelength\", \"transmission\"])"
   ]
  },
  {
   "cell_type": "code",
   "execution_count": 3,
   "id": "9055db83",
   "metadata": {},
   "outputs": [
    {
     "data": {
      "text/html": [
       "<div>\n",
       "<style scoped>\n",
       "    .dataframe tbody tr th:only-of-type {\n",
       "        vertical-align: middle;\n",
       "    }\n",
       "\n",
       "    .dataframe tbody tr th {\n",
       "        vertical-align: top;\n",
       "    }\n",
       "\n",
       "    .dataframe thead th {\n",
       "        text-align: right;\n",
       "    }\n",
       "</style>\n",
       "<table border=\"1\" class=\"dataframe\">\n",
       "  <thead>\n",
       "    <tr style=\"text-align: right;\">\n",
       "      <th></th>\n",
       "      <th>id</th>\n",
       "      <th>wavelength</th>\n",
       "      <th>transmission</th>\n",
       "    </tr>\n",
       "  </thead>\n",
       "  <tbody>\n",
       "    <tr>\n",
       "      <th>0</th>\n",
       "      <td>1</td>\n",
       "      <td>3050.0</td>\n",
       "      <td>0.000</td>\n",
       "    </tr>\n",
       "    <tr>\n",
       "      <th>1</th>\n",
       "      <td>2</td>\n",
       "      <td>3100.0</td>\n",
       "      <td>0.237</td>\n",
       "    </tr>\n",
       "    <tr>\n",
       "      <th>2</th>\n",
       "      <td>3</td>\n",
       "      <td>3150.0</td>\n",
       "      <td>0.403</td>\n",
       "    </tr>\n",
       "    <tr>\n",
       "      <th>3</th>\n",
       "      <td>4</td>\n",
       "      <td>3200.0</td>\n",
       "      <td>0.489</td>\n",
       "    </tr>\n",
       "    <tr>\n",
       "      <th>4</th>\n",
       "      <td>5</td>\n",
       "      <td>3250.0</td>\n",
       "      <td>0.504</td>\n",
       "    </tr>\n",
       "    <tr>\n",
       "      <th>5</th>\n",
       "      <td>6</td>\n",
       "      <td>3300.0</td>\n",
       "      <td>0.508</td>\n",
       "    </tr>\n",
       "    <tr>\n",
       "      <th>6</th>\n",
       "      <td>7</td>\n",
       "      <td>3350.0</td>\n",
       "      <td>0.511</td>\n",
       "    </tr>\n",
       "    <tr>\n",
       "      <th>7</th>\n",
       "      <td>8</td>\n",
       "      <td>3400.0</td>\n",
       "      <td>0.513</td>\n",
       "    </tr>\n",
       "    <tr>\n",
       "      <th>8</th>\n",
       "      <td>9</td>\n",
       "      <td>3450.0</td>\n",
       "      <td>0.516</td>\n",
       "    </tr>\n",
       "    <tr>\n",
       "      <th>9</th>\n",
       "      <td>10</td>\n",
       "      <td>3500.0</td>\n",
       "      <td>0.528</td>\n",
       "    </tr>\n",
       "    <tr>\n",
       "      <th>10</th>\n",
       "      <td>11</td>\n",
       "      <td>3550.0</td>\n",
       "      <td>0.603</td>\n",
       "    </tr>\n",
       "    <tr>\n",
       "      <th>11</th>\n",
       "      <td>12</td>\n",
       "      <td>3600.0</td>\n",
       "      <td>0.741</td>\n",
       "    </tr>\n",
       "    <tr>\n",
       "      <th>12</th>\n",
       "      <td>13</td>\n",
       "      <td>3650.0</td>\n",
       "      <td>0.889</td>\n",
       "    </tr>\n",
       "    <tr>\n",
       "      <th>13</th>\n",
       "      <td>14</td>\n",
       "      <td>3700.0</td>\n",
       "      <td>0.985</td>\n",
       "    </tr>\n",
       "    <tr>\n",
       "      <th>14</th>\n",
       "      <td>15</td>\n",
       "      <td>3750.0</td>\n",
       "      <td>1.000</td>\n",
       "    </tr>\n",
       "    <tr>\n",
       "      <th>15</th>\n",
       "      <td>16</td>\n",
       "      <td>3800.0</td>\n",
       "      <td>0.965</td>\n",
       "    </tr>\n",
       "    <tr>\n",
       "      <th>16</th>\n",
       "      <td>17</td>\n",
       "      <td>3850.0</td>\n",
       "      <td>0.841</td>\n",
       "    </tr>\n",
       "    <tr>\n",
       "      <th>17</th>\n",
       "      <td>18</td>\n",
       "      <td>3900.0</td>\n",
       "      <td>0.648</td>\n",
       "    </tr>\n",
       "    <tr>\n",
       "      <th>18</th>\n",
       "      <td>19</td>\n",
       "      <td>3950.0</td>\n",
       "      <td>0.424</td>\n",
       "    </tr>\n",
       "    <tr>\n",
       "      <th>19</th>\n",
       "      <td>20</td>\n",
       "      <td>4000.0</td>\n",
       "      <td>0.231</td>\n",
       "    </tr>\n",
       "    <tr>\n",
       "      <th>20</th>\n",
       "      <td>21</td>\n",
       "      <td>4050.0</td>\n",
       "      <td>0.109</td>\n",
       "    </tr>\n",
       "    <tr>\n",
       "      <th>21</th>\n",
       "      <td>22</td>\n",
       "      <td>4100.0</td>\n",
       "      <td>0.035</td>\n",
       "    </tr>\n",
       "    <tr>\n",
       "      <th>22</th>\n",
       "      <td>23</td>\n",
       "      <td>4150.0</td>\n",
       "      <td>0.000</td>\n",
       "    </tr>\n",
       "  </tbody>\n",
       "</table>\n",
       "</div>"
      ],
      "text/plain": [
       "    id  wavelength  transmission\n",
       "0    1      3050.0         0.000\n",
       "1    2      3100.0         0.237\n",
       "2    3      3150.0         0.403\n",
       "3    4      3200.0         0.489\n",
       "4    5      3250.0         0.504\n",
       "5    6      3300.0         0.508\n",
       "6    7      3350.0         0.511\n",
       "7    8      3400.0         0.513\n",
       "8    9      3450.0         0.516\n",
       "9   10      3500.0         0.528\n",
       "10  11      3550.0         0.603\n",
       "11  12      3600.0         0.741\n",
       "12  13      3650.0         0.889\n",
       "13  14      3700.0         0.985\n",
       "14  15      3750.0         1.000\n",
       "15  16      3800.0         0.965\n",
       "16  17      3850.0         0.841\n",
       "17  18      3900.0         0.648\n",
       "18  19      3950.0         0.424\n",
       "19  20      4000.0         0.231\n",
       "20  21      4050.0         0.109\n",
       "21  22      4100.0         0.035\n",
       "22  23      4150.0         0.000"
      ]
     },
     "execution_count": 3,
     "metadata": {},
     "output_type": "execute_result"
    }
   ],
   "source": [
    "filter_u"
   ]
  },
  {
   "cell_type": "code",
   "execution_count": 4,
   "id": "79960304",
   "metadata": {},
   "outputs": [
    {
     "data": {
      "image/png": "[encoded data removed]",
      "text/plain": [
       "<Figure size 432x288 with 1 Axes>"
      ]
     },
     "metadata": {
      "needs_background": "light"
     },
     "output_type": "display_data"
    },
    {
     "data": {
      "image/png": "[encoded data removed]",
      "text/plain": [
       "<Figure size 432x288 with 1 Axes>"
      ]
     },
     "metadata": {
      "needs_background": "light"
     },
     "output_type": "display_data"
    },
    {
     "data": {
      "image/png": "[encoded data removed]",
      "text/plain": [
       "<Figure size 432x288 with 1 Axes>"
      ]
     },
     "metadata": {
      "needs_background": "light"
     },
     "output_type": "display_data"
    }
   ],
   "source": [
    "filter_u.plot(x= \"wavelength\", y = \"transmission\", label = \"U\")\n",
    "filter_b.plot(x= \"wavelength\", y = \"transmission\", label = \"B\")\n",
    "filter_v.plot(x= \"wavelength\", y = \"transmission\", label = \"V\" )\n",
    "plt.xlabel(\"Wavelength (angstron)\")\n",
    "plt.ylabel(\"Transmission\")\n",
    "plt.show()"
   ]
  },
  {
   "cell_type": "code",
   "execution_count": 5,
   "id": "218d25ce",
   "metadata": {},
   "outputs": [
    {
     "data": {
      "image/png": "[encoded data removed]",
      "text/plain": [
       "<Figure size 432x288 with 1 Axes>"
      ]
     },
     "metadata": {
      "needs_background": "light"
     },
     "output_type": "display_data"
    }
   ],
   "source": [
    "ax = filter_u.plot(x= \"wavelength\", y = \"transmission\", label = \"U\", color = \"blue\")\n",
    "filter_b.plot(ax= ax, x= \"wavelength\", y = \"transmission\", label = \"B\", color = \"green\")\n",
    "filter_v.plot(ax = ax, x= \"wavelength\", y = \"transmission\", label = \"V\", color = \"red\")\n",
    "plt.xlabel(\"Wavelength (angstron)\")\n",
    "plt.ylabel(\"Transmission\")\n",
    "plt.show()"
   ]
  },
  {
   "cell_type": "markdown",
   "id": "47665884",
   "metadata": {},
   "source": [
    "Filters Ultraviolet Visible and Blue all graphed on the same plot."
   ]
  },
  {
   "cell_type": "code",
   "execution_count": 6,
   "id": "bccffc7c",
   "metadata": {
    "scrolled": true
   },
   "outputs": [
    {
     "data": {
      "text/html": [
       "<div>\n",
       "<style scoped>\n",
       "    .dataframe tbody tr th:only-of-type {\n",
       "        vertical-align: middle;\n",
       "    }\n",
       "\n",
       "    .dataframe tbody tr th {\n",
       "        vertical-align: top;\n",
       "    }\n",
       "\n",
       "    .dataframe thead th {\n",
       "        text-align: right;\n",
       "    }\n",
       "</style>\n",
       "<table border=\"1\" class=\"dataframe\">\n",
       "  <thead>\n",
       "    <tr style=\"text-align: right;\">\n",
       "      <th></th>\n",
       "      <th>filename</th>\n",
       "      <th>spectral_type</th>\n",
       "      <th>lum_class</th>\n",
       "      <th>Temperature</th>\n",
       "    </tr>\n",
       "  </thead>\n",
       "  <tbody>\n",
       "    <tr>\n",
       "      <th>0</th>\n",
       "      <td>pickles_uk_1</td>\n",
       "      <td>O5</td>\n",
       "      <td>V</td>\n",
       "      <td>39810.70</td>\n",
       "    </tr>\n",
       "    <tr>\n",
       "      <th>1</th>\n",
       "      <td>pickles_uk_2</td>\n",
       "      <td>O9</td>\n",
       "      <td>V</td>\n",
       "      <td>35481.40</td>\n",
       "    </tr>\n",
       "    <tr>\n",
       "      <th>2</th>\n",
       "      <td>pickles_uk_3</td>\n",
       "      <td>B0</td>\n",
       "      <td>V</td>\n",
       "      <td>28183.80</td>\n",
       "    </tr>\n",
       "    <tr>\n",
       "      <th>3</th>\n",
       "      <td>pickles_uk_4</td>\n",
       "      <td>B1</td>\n",
       "      <td>V</td>\n",
       "      <td>22387.20</td>\n",
       "    </tr>\n",
       "    <tr>\n",
       "      <th>4</th>\n",
       "      <td>pickles_uk_5</td>\n",
       "      <td>B3</td>\n",
       "      <td>V</td>\n",
       "      <td>19054.60</td>\n",
       "    </tr>\n",
       "    <tr>\n",
       "      <th>...</th>\n",
       "      <td>...</td>\n",
       "      <td>...</td>\n",
       "      <td>...</td>\n",
       "      <td>...</td>\n",
       "    </tr>\n",
       "    <tr>\n",
       "      <th>74</th>\n",
       "      <td>pickles_uk_126</td>\n",
       "      <td>G5</td>\n",
       "      <td>I</td>\n",
       "      <td>5046.61</td>\n",
       "    </tr>\n",
       "    <tr>\n",
       "      <th>75</th>\n",
       "      <td>pickles_uk_127</td>\n",
       "      <td>G8</td>\n",
       "      <td>I</td>\n",
       "      <td>4591.98</td>\n",
       "    </tr>\n",
       "    <tr>\n",
       "      <th>76</th>\n",
       "      <td>pickles_uk_128</td>\n",
       "      <td>K2</td>\n",
       "      <td>I</td>\n",
       "      <td>4255.98</td>\n",
       "    </tr>\n",
       "    <tr>\n",
       "      <th>77</th>\n",
       "      <td>pickles_uk_130</td>\n",
       "      <td>K4</td>\n",
       "      <td>I</td>\n",
       "      <td>3990.25</td>\n",
       "    </tr>\n",
       "    <tr>\n",
       "      <th>78</th>\n",
       "      <td>pickles_uk_131</td>\n",
       "      <td>M2</td>\n",
       "      <td>I</td>\n",
       "      <td>3451.44</td>\n",
       "    </tr>\n",
       "  </tbody>\n",
       "</table>\n",
       "<p>79 rows × 4 columns</p>\n",
       "</div>"
      ],
      "text/plain": [
       "          filename spectral_type lum_class  Temperature\n",
       "0     pickles_uk_1            O5         V     39810.70\n",
       "1     pickles_uk_2            O9         V     35481.40\n",
       "2     pickles_uk_3            B0         V     28183.80\n",
       "3     pickles_uk_4            B1         V     22387.20\n",
       "4     pickles_uk_5            B3         V     19054.60\n",
       "..             ...           ...       ...          ...\n",
       "74  pickles_uk_126            G5         I      5046.61\n",
       "75  pickles_uk_127            G8         I      4591.98\n",
       "76  pickles_uk_128            K2         I      4255.98\n",
       "77  pickles_uk_130            K4         I      3990.25\n",
       "78  pickles_uk_131            M2         I      3451.44\n",
       "\n",
       "[79 rows x 4 columns]"
      ]
     },
     "execution_count": 6,
     "metadata": {},
     "output_type": "execute_result"
    }
   ],
   "source": [
    "all_stars = pd.read_csv(\"/Users/lauragaravito/Downloads/Assignment5/templates/pickles_stars/Table.dat\", sep=\"\\s+\", skiprows= 1, header=None, names=[\"filename\", \"spectral_type\", \"lum_class\", \"Temperature\"])\n",
    "all_stars"
   ]
  },
  {
   "cell_type": "markdown",
   "id": "e7accfda",
   "metadata": {},
   "source": [
    "This is the imported table with the information of all the pickles stars"
   ]
  },
  {
   "cell_type": "code",
   "execution_count": 9,
   "id": "4cba4066",
   "metadata": {},
   "outputs": [],
   "source": [
    "as2 = {'filename': 'wd1', 'spectral_type': 'DA0', 'lum_class': 'WD', \"Temperature\" : 50400.00}\n",
    "all_stars = all_stars.append(as2, ignore_index = True)\n"
   ]
  },
  {
   "cell_type": "code",
   "execution_count": 10,
   "id": "45adf7d8",
   "metadata": {},
   "outputs": [],
   "source": [
    "as2 = {'filename': 'wd2', 'spectral_type': 'DA6', 'lum_class': 'WD', \"Temperature\" : 8400.00}\n",
    "all_stars = all_stars.append(as2, ignore_index = True)"
   ]
  },
  {
   "cell_type": "code",
   "execution_count": 11,
   "id": "a2805327",
   "metadata": {
    "scrolled": false
   },
   "outputs": [
    {
     "data": {
      "text/html": [
       "<div>\n",
       "<style scoped>\n",
       "    .dataframe tbody tr th:only-of-type {\n",
       "        vertical-align: middle;\n",
       "    }\n",
       "\n",
       "    .dataframe tbody tr th {\n",
       "        vertical-align: top;\n",
       "    }\n",
       "\n",
       "    .dataframe thead th {\n",
       "        text-align: right;\n",
       "    }\n",
       "</style>\n",
       "<table border=\"1\" class=\"dataframe\">\n",
       "  <thead>\n",
       "    <tr style=\"text-align: right;\">\n",
       "      <th></th>\n",
       "      <th>filename</th>\n",
       "      <th>spectral_type</th>\n",
       "      <th>lum_class</th>\n",
       "      <th>Temperature</th>\n",
       "    </tr>\n",
       "  </thead>\n",
       "  <tbody>\n",
       "    <tr>\n",
       "      <th>0</th>\n",
       "      <td>pickles_uk_1</td>\n",
       "      <td>O5</td>\n",
       "      <td>V</td>\n",
       "      <td>39810.70</td>\n",
       "    </tr>\n",
       "    <tr>\n",
       "      <th>1</th>\n",
       "      <td>pickles_uk_2</td>\n",
       "      <td>O9</td>\n",
       "      <td>V</td>\n",
       "      <td>35481.40</td>\n",
       "    </tr>\n",
       "    <tr>\n",
       "      <th>2</th>\n",
       "      <td>pickles_uk_3</td>\n",
       "      <td>B0</td>\n",
       "      <td>V</td>\n",
       "      <td>28183.80</td>\n",
       "    </tr>\n",
       "    <tr>\n",
       "      <th>3</th>\n",
       "      <td>pickles_uk_4</td>\n",
       "      <td>B1</td>\n",
       "      <td>V</td>\n",
       "      <td>22387.20</td>\n",
       "    </tr>\n",
       "    <tr>\n",
       "      <th>4</th>\n",
       "      <td>pickles_uk_5</td>\n",
       "      <td>B3</td>\n",
       "      <td>V</td>\n",
       "      <td>19054.60</td>\n",
       "    </tr>\n",
       "    <tr>\n",
       "      <th>...</th>\n",
       "      <td>...</td>\n",
       "      <td>...</td>\n",
       "      <td>...</td>\n",
       "      <td>...</td>\n",
       "    </tr>\n",
       "    <tr>\n",
       "      <th>76</th>\n",
       "      <td>pickles_uk_128</td>\n",
       "      <td>K2</td>\n",
       "      <td>I</td>\n",
       "      <td>4255.98</td>\n",
       "    </tr>\n",
       "    <tr>\n",
       "      <th>77</th>\n",
       "      <td>pickles_uk_130</td>\n",
       "      <td>K4</td>\n",
       "      <td>I</td>\n",
       "      <td>3990.25</td>\n",
       "    </tr>\n",
       "    <tr>\n",
       "      <th>78</th>\n",
       "      <td>pickles_uk_131</td>\n",
       "      <td>M2</td>\n",
       "      <td>I</td>\n",
       "      <td>3451.44</td>\n",
       "    </tr>\n",
       "    <tr>\n",
       "      <th>79</th>\n",
       "      <td>wd1</td>\n",
       "      <td>DA0</td>\n",
       "      <td>WD</td>\n",
       "      <td>50400.00</td>\n",
       "    </tr>\n",
       "    <tr>\n",
       "      <th>80</th>\n",
       "      <td>wd2</td>\n",
       "      <td>DA6</td>\n",
       "      <td>WD</td>\n",
       "      <td>8400.00</td>\n",
       "    </tr>\n",
       "  </tbody>\n",
       "</table>\n",
       "<p>81 rows × 4 columns</p>\n",
       "</div>"
      ],
      "text/plain": [
       "          filename spectral_type lum_class  Temperature\n",
       "0     pickles_uk_1            O5         V     39810.70\n",
       "1     pickles_uk_2            O9         V     35481.40\n",
       "2     pickles_uk_3            B0         V     28183.80\n",
       "3     pickles_uk_4            B1         V     22387.20\n",
       "4     pickles_uk_5            B3         V     19054.60\n",
       "..             ...           ...       ...          ...\n",
       "76  pickles_uk_128            K2         I      4255.98\n",
       "77  pickles_uk_130            K4         I      3990.25\n",
       "78  pickles_uk_131            M2         I      3451.44\n",
       "79             wd1           DA0        WD     50400.00\n",
       "80             wd2           DA6        WD      8400.00\n",
       "\n",
       "[81 rows x 4 columns]"
      ]
     },
     "execution_count": 11,
     "metadata": {},
     "output_type": "execute_result"
    }
   ],
   "source": [
    "all_stars"
   ]
  },
  {
   "cell_type": "markdown",
   "id": "f17a65b7",
   "metadata": {},
   "source": [
    "Now my complete table includes the white dwarfs as well"
   ]
  },
  {
   "cell_type": "code",
   "execution_count": 7,
   "id": "fa53fba4",
   "metadata": {},
   "outputs": [],
   "source": [
    "c = 299792458\n",
    "c_angstrom = c * 1e10\n",
    "def wav_2_freq(wavelength):\n",
    "    return c_angstrom / wavelength"
   ]
  },
  {
   "cell_type": "markdown",
   "id": "79335932",
   "metadata": {},
   "source": [
    "We need to use frequency in order to find absolute and apparent magnitude. I made a function converting the wavelength that is given into frequency. "
   ]
  },
  {
   "cell_type": "code",
   "execution_count": 8,
   "id": "a1fd4d4c",
   "metadata": {},
   "outputs": [],
   "source": [
    "inter_u = interp1d(wav_2_freq(filter_u[\"wavelength\"]), filter_u[\"transmission\"], kind= \"cubic\", bounds_error=False, fill_value=0)\n",
    "inter_v = interp1d(wav_2_freq(filter_v[\"wavelength\"]), filter_v[\"transmission\"], kind= \"cubic\", bounds_error=False, fill_value=0)\n",
    "inter_b = interp1d(wav_2_freq(filter_b[\"wavelength\"]), filter_b[\"transmission\"], kind= \"cubic\", bounds_error=False, fill_value=0)\n"
   ]
  },
  {
   "cell_type": "markdown",
   "id": "b1bae7ef",
   "metadata": {},
   "source": [
    "The graphs need to be approximated in regards to their frequency and transmission in order to be used in the absolute magnitude function. That line takes the wavelength and turns it into frequency and interpolates it. This makes it exactly the variable that will be used in the absolute magnitude function. "
   ]
  },
  {
   "cell_type": "code",
   "execution_count": 13,
   "id": "4409fb40",
   "metadata": {},
   "outputs": [],
   "source": [
    "def AbsoluteMag(interUBV,star):\n",
    "    nu = star[\"frequency\"]\n",
    "    f_nu = star[\"F_Nu\"]\n",
    "    X_nu = interUBV(nu)\n",
    "    numerator_int = trapezoid(f_nu * X_nu / nu, nu)\n",
    "    denominator_int = trapezoid( X_nu / nu, nu)\n",
    "    log_value = numerator_int / denominator_int\n",
    "    return -2.5 * math.log(log_value,10)-48.6"
   ]
  },
  {
   "cell_type": "markdown",
   "id": "2f467852",
   "metadata": {},
   "source": [
    "This is the function for finding the absolute magnitude based on the U B or V filter and of the star chosen. "
   ]
  },
  {
   "cell_type": "code",
   "execution_count": 14,
   "id": "0d02bc08",
   "metadata": {},
   "outputs": [],
   "source": [
    "for i, row in all_stars.iterrows():\n",
    "    filename = row[\"filename\"]\n",
    "    p_stars = pd.read_csv(f\"/Users/lauragaravito/Downloads/Assignment5/templates/pickles_stars/ascii_norm/{filename}.ascii\",sep=\"\\s+\", skiprows=3, header=None, names=[\"wavelength\", \"F_Lambda\"]) \n",
    "    # p_stars = dv\n",
    "    p_stars[\"frequency\"] = wav_2_freq(p_stars[\"wavelength\"])\n",
    "    p_stars[\"F_Nu\"] = p_stars[\"F_Lambda\"] * p_stars[\"wavelength\"] ** 2 / c_angstrom\n",
    "    all_stars.loc[i,\"MV\"] = AbsoluteMag(inter_v , p_stars)\n",
    "    all_stars.loc[i,\"MU\"] = AbsoluteMag(inter_u , p_stars)\n",
    "    all_stars.loc[i,\"MB\"] = AbsoluteMag(inter_b , p_stars)\n",
    "    all_stars.loc[i, \"U-B\"] = all_stars.loc[i, \"MU\"] -all_stars.loc[i, \"MB\"]\n",
    "    all_stars.loc[i, \"B-V\"] = all_stars.loc[i, \"MB\"] -all_stars.loc[i, \"MV\"]\n"
   ]
  },
  {
   "cell_type": "markdown",
   "id": "2c6518ce",
   "metadata": {},
   "source": [
    "In this code I completed each table of stars adding the correct frequency we want to use in the absolute magnitude function. I also ran through all the pickles star files, applied my absolute magnitude function, and added it to the table"
   ]
  },
  {
   "cell_type": "code",
   "execution_count": 15,
   "id": "b02d82a2",
   "metadata": {},
   "outputs": [
    {
     "data": {
      "text/html": [
       "<div>\n",
       "<style scoped>\n",
       "    .dataframe tbody tr th:only-of-type {\n",
       "        vertical-align: middle;\n",
       "    }\n",
       "\n",
       "    .dataframe tbody tr th {\n",
       "        vertical-align: top;\n",
       "    }\n",
       "\n",
       "    .dataframe thead th {\n",
       "        text-align: right;\n",
       "    }\n",
       "</style>\n",
       "<table border=\"1\" class=\"dataframe\">\n",
       "  <thead>\n",
       "    <tr style=\"text-align: right;\">\n",
       "      <th></th>\n",
       "      <th>wavelength</th>\n",
       "      <th>F_Lambda</th>\n",
       "      <th>frequency</th>\n",
       "      <th>F_Nu</th>\n",
       "    </tr>\n",
       "  </thead>\n",
       "  <tbody>\n",
       "    <tr>\n",
       "      <th>0</th>\n",
       "      <td>3200.0</td>\n",
       "      <td>-5.206416e-18</td>\n",
       "      <td>9.368514e+14</td>\n",
       "      <td>-1.778354e-29</td>\n",
       "    </tr>\n",
       "    <tr>\n",
       "      <th>1</th>\n",
       "      <td>3202.0</td>\n",
       "      <td>-8.217942e-18</td>\n",
       "      <td>9.362663e+14</td>\n",
       "      <td>-2.810509e-29</td>\n",
       "    </tr>\n",
       "    <tr>\n",
       "      <th>2</th>\n",
       "      <td>3204.0</td>\n",
       "      <td>3.339943e-17</td>\n",
       "      <td>9.356818e+14</td>\n",
       "      <td>1.143677e-28</td>\n",
       "    </tr>\n",
       "    <tr>\n",
       "      <th>3</th>\n",
       "      <td>3206.0</td>\n",
       "      <td>-1.579246e-17</td>\n",
       "      <td>9.350981e+14</td>\n",
       "      <td>-5.414472e-29</td>\n",
       "    </tr>\n",
       "    <tr>\n",
       "      <th>4</th>\n",
       "      <td>3208.0</td>\n",
       "      <td>4.796911e-17</td>\n",
       "      <td>9.345151e+14</td>\n",
       "      <td>1.646682e-28</td>\n",
       "    </tr>\n",
       "    <tr>\n",
       "      <th>...</th>\n",
       "      <td>...</td>\n",
       "      <td>...</td>\n",
       "      <td>...</td>\n",
       "      <td>...</td>\n",
       "    </tr>\n",
       "    <tr>\n",
       "      <th>3204</th>\n",
       "      <td>9608.0</td>\n",
       "      <td>2.549021e-15</td>\n",
       "      <td>3.120238e+14</td>\n",
       "      <td>7.849079e-26</td>\n",
       "    </tr>\n",
       "    <tr>\n",
       "      <th>3205</th>\n",
       "      <td>9610.0</td>\n",
       "      <td>2.978946e-15</td>\n",
       "      <td>3.119589e+14</td>\n",
       "      <td>9.176746e-26</td>\n",
       "    </tr>\n",
       "    <tr>\n",
       "      <th>3206</th>\n",
       "      <td>9612.0</td>\n",
       "      <td>2.091717e-15</td>\n",
       "      <td>3.118939e+14</td>\n",
       "      <td>6.446289e-26</td>\n",
       "    </tr>\n",
       "    <tr>\n",
       "      <th>3207</th>\n",
       "      <td>9614.0</td>\n",
       "      <td>1.978907e-15</td>\n",
       "      <td>3.118291e+14</td>\n",
       "      <td>6.101167e-26</td>\n",
       "    </tr>\n",
       "    <tr>\n",
       "      <th>3208</th>\n",
       "      <td>9616.0</td>\n",
       "      <td>2.345592e-15</td>\n",
       "      <td>3.117642e+14</td>\n",
       "      <td>7.234703e-26</td>\n",
       "    </tr>\n",
       "  </tbody>\n",
       "</table>\n",
       "<p>3209 rows × 4 columns</p>\n",
       "</div>"
      ],
      "text/plain": [
       "      wavelength      F_Lambda     frequency          F_Nu\n",
       "0         3200.0 -5.206416e-18  9.368514e+14 -1.778354e-29\n",
       "1         3202.0 -8.217942e-18  9.362663e+14 -2.810509e-29\n",
       "2         3204.0  3.339943e-17  9.356818e+14  1.143677e-28\n",
       "3         3206.0 -1.579246e-17  9.350981e+14 -5.414472e-29\n",
       "4         3208.0  4.796911e-17  9.345151e+14  1.646682e-28\n",
       "...          ...           ...           ...           ...\n",
       "3204      9608.0  2.549021e-15  3.120238e+14  7.849079e-26\n",
       "3205      9610.0  2.978946e-15  3.119589e+14  9.176746e-26\n",
       "3206      9612.0  2.091717e-15  3.118939e+14  6.446289e-26\n",
       "3207      9614.0  1.978907e-15  3.118291e+14  6.101167e-26\n",
       "3208      9616.0  2.345592e-15  3.117642e+14  7.234703e-26\n",
       "\n",
       "[3209 rows x 4 columns]"
      ]
     },
     "execution_count": 15,
     "metadata": {},
     "output_type": "execute_result"
    }
   ],
   "source": [
    "p_stars"
   ]
  },
  {
   "cell_type": "markdown",
   "id": "3d8279bb",
   "metadata": {},
   "source": [
    "This is what the new table for each star looks like"
   ]
  },
  {
   "cell_type": "code",
   "execution_count": 16,
   "id": "79d1fbdf",
   "metadata": {
    "scrolled": true
   },
   "outputs": [
    {
     "data": {
      "text/html": [
       "<div>\n",
       "<style scoped>\n",
       "    .dataframe tbody tr th:only-of-type {\n",
       "        vertical-align: middle;\n",
       "    }\n",
       "\n",
       "    .dataframe tbody tr th {\n",
       "        vertical-align: top;\n",
       "    }\n",
       "\n",
       "    .dataframe thead th {\n",
       "        text-align: right;\n",
       "    }\n",
       "</style>\n",
       "<table border=\"1\" class=\"dataframe\">\n",
       "  <thead>\n",
       "    <tr style=\"text-align: right;\">\n",
       "      <th></th>\n",
       "      <th>filename</th>\n",
       "      <th>spectral_type</th>\n",
       "      <th>lum_class</th>\n",
       "      <th>Temperature</th>\n",
       "      <th>MV</th>\n",
       "      <th>MU</th>\n",
       "      <th>MB</th>\n",
       "      <th>U-B</th>\n",
       "      <th>B-V</th>\n",
       "    </tr>\n",
       "  </thead>\n",
       "  <tbody>\n",
       "    <tr>\n",
       "      <th>0</th>\n",
       "      <td>pickles_uk_1</td>\n",
       "      <td>O5</td>\n",
       "      <td>V</td>\n",
       "      <td>39810.70</td>\n",
       "      <td>-5.400073</td>\n",
       "      <td>-6.212510</td>\n",
       "      <td>-5.893420</td>\n",
       "      <td>-0.319089</td>\n",
       "      <td>-0.493348</td>\n",
       "    </tr>\n",
       "    <tr>\n",
       "      <th>1</th>\n",
       "      <td>pickles_uk_2</td>\n",
       "      <td>O9</td>\n",
       "      <td>V</td>\n",
       "      <td>35481.40</td>\n",
       "      <td>-4.000110</td>\n",
       "      <td>-4.717033</td>\n",
       "      <td>-4.444463</td>\n",
       "      <td>-0.272570</td>\n",
       "      <td>-0.444353</td>\n",
       "    </tr>\n",
       "    <tr>\n",
       "      <th>2</th>\n",
       "      <td>pickles_uk_3</td>\n",
       "      <td>B0</td>\n",
       "      <td>V</td>\n",
       "      <td>28183.80</td>\n",
       "      <td>-3.700075</td>\n",
       "      <td>-4.352435</td>\n",
       "      <td>-4.155024</td>\n",
       "      <td>-0.197410</td>\n",
       "      <td>-0.454950</td>\n",
       "    </tr>\n",
       "    <tr>\n",
       "      <th>3</th>\n",
       "      <td>pickles_uk_4</td>\n",
       "      <td>B1</td>\n",
       "      <td>V</td>\n",
       "      <td>22387.20</td>\n",
       "      <td>-3.200017</td>\n",
       "      <td>-3.663472</td>\n",
       "      <td>-3.556467</td>\n",
       "      <td>-0.107006</td>\n",
       "      <td>-0.356450</td>\n",
       "    </tr>\n",
       "    <tr>\n",
       "      <th>4</th>\n",
       "      <td>pickles_uk_5</td>\n",
       "      <td>B3</td>\n",
       "      <td>V</td>\n",
       "      <td>19054.60</td>\n",
       "      <td>-2.100071</td>\n",
       "      <td>-2.274122</td>\n",
       "      <td>-2.413165</td>\n",
       "      <td>0.139042</td>\n",
       "      <td>-0.313093</td>\n",
       "    </tr>\n",
       "    <tr>\n",
       "      <th>...</th>\n",
       "      <td>...</td>\n",
       "      <td>...</td>\n",
       "      <td>...</td>\n",
       "      <td>...</td>\n",
       "      <td>...</td>\n",
       "      <td>...</td>\n",
       "      <td>...</td>\n",
       "      <td>...</td>\n",
       "      <td>...</td>\n",
       "    </tr>\n",
       "    <tr>\n",
       "      <th>76</th>\n",
       "      <td>pickles_uk_128</td>\n",
       "      <td>K2</td>\n",
       "      <td>I</td>\n",
       "      <td>4255.98</td>\n",
       "      <td>-6.099978</td>\n",
       "      <td>-2.216451</td>\n",
       "      <td>-4.693201</td>\n",
       "      <td>2.476750</td>\n",
       "      <td>1.406777</td>\n",
       "    </tr>\n",
       "    <tr>\n",
       "      <th>77</th>\n",
       "      <td>pickles_uk_130</td>\n",
       "      <td>K4</td>\n",
       "      <td>I</td>\n",
       "      <td>3990.25</td>\n",
       "      <td>-6.199980</td>\n",
       "      <td>-2.074897</td>\n",
       "      <td>-4.634224</td>\n",
       "      <td>2.559327</td>\n",
       "      <td>1.565756</td>\n",
       "    </tr>\n",
       "    <tr>\n",
       "      <th>78</th>\n",
       "      <td>pickles_uk_131</td>\n",
       "      <td>M2</td>\n",
       "      <td>I</td>\n",
       "      <td>3451.44</td>\n",
       "      <td>-6.300033</td>\n",
       "      <td>-2.007617</td>\n",
       "      <td>-4.668836</td>\n",
       "      <td>2.661220</td>\n",
       "      <td>1.631197</td>\n",
       "    </tr>\n",
       "    <tr>\n",
       "      <th>79</th>\n",
       "      <td>wd1</td>\n",
       "      <td>DA0</td>\n",
       "      <td>WD</td>\n",
       "      <td>50400.00</td>\n",
       "      <td>10.799826</td>\n",
       "      <td>10.463483</td>\n",
       "      <td>10.368154</td>\n",
       "      <td>0.095330</td>\n",
       "      <td>-0.431673</td>\n",
       "    </tr>\n",
       "    <tr>\n",
       "      <th>80</th>\n",
       "      <td>wd2</td>\n",
       "      <td>DA6</td>\n",
       "      <td>WD</td>\n",
       "      <td>8400.00</td>\n",
       "      <td>13.699981</td>\n",
       "      <td>14.217755</td>\n",
       "      <td>13.771847</td>\n",
       "      <td>0.445908</td>\n",
       "      <td>0.071867</td>\n",
       "    </tr>\n",
       "  </tbody>\n",
       "</table>\n",
       "<p>81 rows × 9 columns</p>\n",
       "</div>"
      ],
      "text/plain": [
       "          filename spectral_type lum_class  Temperature         MV         MU  \\\n",
       "0     pickles_uk_1            O5         V     39810.70  -5.400073  -6.212510   \n",
       "1     pickles_uk_2            O9         V     35481.40  -4.000110  -4.717033   \n",
       "2     pickles_uk_3            B0         V     28183.80  -3.700075  -4.352435   \n",
       "3     pickles_uk_4            B1         V     22387.20  -3.200017  -3.663472   \n",
       "4     pickles_uk_5            B3         V     19054.60  -2.100071  -2.274122   \n",
       "..             ...           ...       ...          ...        ...        ...   \n",
       "76  pickles_uk_128            K2         I      4255.98  -6.099978  -2.216451   \n",
       "77  pickles_uk_130            K4         I      3990.25  -6.199980  -2.074897   \n",
       "78  pickles_uk_131            M2         I      3451.44  -6.300033  -2.007617   \n",
       "79             wd1           DA0        WD     50400.00  10.799826  10.463483   \n",
       "80             wd2           DA6        WD      8400.00  13.699981  14.217755   \n",
       "\n",
       "           MB       U-B       B-V  \n",
       "0   -5.893420 -0.319089 -0.493348  \n",
       "1   -4.444463 -0.272570 -0.444353  \n",
       "2   -4.155024 -0.197410 -0.454950  \n",
       "3   -3.556467 -0.107006 -0.356450  \n",
       "4   -2.413165  0.139042 -0.313093  \n",
       "..        ...       ...       ...  \n",
       "76  -4.693201  2.476750  1.406777  \n",
       "77  -4.634224  2.559327  1.565756  \n",
       "78  -4.668836  2.661220  1.631197  \n",
       "79  10.368154  0.095330 -0.431673  \n",
       "80  13.771847  0.445908  0.071867  \n",
       "\n",
       "[81 rows x 9 columns]"
      ]
     },
     "execution_count": 16,
     "metadata": {},
     "output_type": "execute_result"
    }
   ],
   "source": [
    "all_stars"
   ]
  },
  {
   "cell_type": "markdown",
   "id": "439b626d",
   "metadata": {},
   "source": [
    "This is the completed table with all necessary values for every star."
   ]
  },
  {
   "cell_type": "markdown",
   "id": "0d1b8302",
   "metadata": {},
   "source": [
    "HR DIAGRAM"
   ]
  },
  {
   "cell_type": "code",
   "execution_count": 17,
   "id": "2a40e158",
   "metadata": {},
   "outputs": [
    {
     "data": {
      "image/png": "[encoded data removed]",
      "text/plain": [
       "<Figure size 432x288 with 1 Axes>"
      ]
     },
     "metadata": {
      "needs_background": "light"
     },
     "output_type": "display_data"
    }
   ],
   "source": [
    "ax = None\n",
    "colors = [\"red\", \"orange\", \"green\", \"blue\", \"purple\", \"cyan\"]\n",
    "\n",
    "for i, lumclass in enumerate(all_stars[\"lum_class\"].unique()):\n",
    "    hr_points = all_stars[all_stars[\"lum_class\"] == lumclass]\n",
    "    ax = hr_points.plot(x=\"Temperature\", y = \"MV\", ax=ax, kind = \"scatter\", xlim=(10**4.8,10**3),ylim=(16,-9), logx = True, color=colors[i], label=lumclass)\n",
    "sun_x = [5778]\n",
    "sun_y = [4.80]\n",
    "plt.plot(sun_x, sun_y, marker=\"*\", markersize=21, markeredgecolor=\"black\", markerfacecolor=\"yellow\", label = \"sun\")\n",
    "ax.legend()\n",
    "plt.show()\n",
    "\n"
   ]
  },
  {
   "cell_type": "markdown",
   "id": "6f1f2f48",
   "metadata": {},
   "source": [
    "This is the HR diagram. Color coded by Luminosity Class. It shows temperature on a Log scale on the X axis and Mv on the y axis. The sun is plotted on top for reference"
   ]
  },
  {
   "cell_type": "code",
   "execution_count": 18,
   "id": "f0519133",
   "metadata": {
    "scrolled": false
   },
   "outputs": [
    {
     "data": {
      "image/png": "[encoded data removed]",
      "text/plain": [
       "<Figure size 432x288 with 1 Axes>"
      ]
     },
     "metadata": {
      "needs_background": "light"
     },
     "output_type": "display_data"
    }
   ],
   "source": [
    "ax = None\n",
    "colors = [\"red\", \"orange\", \"green\", \"blue\", \"purple\",  \"cyan\"]\n",
    "\n",
    "for i, lumclass in enumerate(all_stars[\"lum_class\"].unique()):\n",
    "    hr_points = all_stars[all_stars[\"lum_class\"] == lumclass]\n",
    "    ax = hr_points.plot(x=\"B-V\", y = \"MV\", ax=ax, kind = \"scatter\", xlim=(-1,2),ylim=(15,-9), color=colors[i], label=lumclass)\n",
    "sun_x = [0.51]\n",
    "sun_y = [4.80]\n",
    "plt.plot(sun_x, sun_y, marker=\"*\", markersize=21, markeredgecolor=\"black\", markerfacecolor=\"yellow\", label = \"sun\")\n",
    "ax.legend()\n",
    "plt.show()"
   ]
  },
  {
   "cell_type": "markdown",
   "id": "981fe2e3",
   "metadata": {},
   "source": [
    "This is color coded by Luminosity Class. It shows the B filter magnitude minus V on the x axis and Mv on the y axis"
   ]
  },
  {
   "cell_type": "code",
   "execution_count": 31,
   "id": "699dc347",
   "metadata": {},
   "outputs": [
    {
     "data": {
      "image/png": "[encoded data removed]",
      "text/plain": [
       "<Figure size 432x288 with 2 Axes>"
      ]
     },
     "metadata": {
      "needs_background": "light"
     },
     "output_type": "display_data"
    }
   ],
   "source": [
    "ax = None\n",
    "colors = [\"red\", \"orange\", \"green\", \"blue\", \"purple\",  \"cyan\"]\n",
    "\n",
    "for i, lumclass in enumerate(all_stars[\"lum_class\"].unique()):\n",
    "    hr_points = all_stars[all_stars[\"lum_class\"] == lumclass]\n",
    "    ax = hr_points.plot(x=\"B-V\", y = \"U-B\", ax=ax, kind = \"line\", xlim=(-.6,2),ylim=(3,-.6), color=colors[i], label=lumclass, zorder=1)\n",
    "    \n",
    "sc = ax.scatter(all_stars[\"B-V\"], all_stars[\"U-B\"], c=all_stars[\"Temperature\"], cmap=\"bwr_r\", norm=col.LogNorm(), zorder = 2)\n",
    "\n",
    "ax.legend()\n",
    "\n",
    "cor = plt.colorbar(sc)\n",
    "plt.ylabel(\"U-B\")\n",
    "plt.show()"
   ]
  },
  {
   "cell_type": "markdown",
   "id": "5570ebc8",
   "metadata": {},
   "source": [
    "This is color coded by Luminosity Class in lines connecting the dots, and a temperature gradient. It shows the B filter magnitude minus V on the x axis and U minus B on the y axis"
   ]
  },
  {
   "cell_type": "code",
   "execution_count": 20,
   "id": "b04bd20e",
   "metadata": {},
   "outputs": [],
   "source": [
    "h = 6.6260688 * 10**-27\n",
    "c = 2.99792448 * 10 **10\n",
    "k = 1.38064852 * 10 ** -16"
   ]
  },
  {
   "cell_type": "code",
   "execution_count": 21,
   "id": "377c6a40",
   "metadata": {},
   "outputs": [],
   "source": [
    "def black_body_F_nu(temp,nu):\n",
    "    first_term = (2 * math.pi * h * nu**3)/(c**2)\n",
    "    second_term = 1/(math.e ** ((h * nu) / (k * temp)) -1)\n",
    "    return first_term * second_term"
   ]
  },
  {
   "cell_type": "code",
   "execution_count": 22,
   "id": "4dd7306a",
   "metadata": {},
   "outputs": [],
   "source": [
    "def AbsoluteMag_blackbody(interUBV,temperature):\n",
    "    nu = interUBV.x\n",
    "    f_nu = black_body_F_nu(temperature,nu)\n",
    "    X_nu = interUBV(nu)\n",
    "    numerator_int = trapezoid(f_nu * X_nu / nu, nu)\n",
    "    denominator_int = trapezoid( X_nu / nu, nu)\n",
    "    log_value = numerator_int / denominator_int\n",
    "    return -2.5 * math.log(log_value,10)-48.6"
   ]
  },
  {
   "cell_type": "code",
   "execution_count": 23,
   "id": "7551ecfd",
   "metadata": {},
   "outputs": [],
   "source": [
    "AbsoluteMag_blackbody_u = np.vectorize(lambda T: AbsoluteMag_blackbody(inter_u, T))\n",
    "AbsoluteMag_blackbody_b = np.vectorize(lambda T: AbsoluteMag_blackbody(inter_b, T))\n",
    "AbsoluteMag_blackbody_v = np.vectorize(lambda T: AbsoluteMag_blackbody(inter_v, T))\n",
    "TempRange = np.logspace(np.log10(2200),np.log10(100000), 50)"
   ]
  },
  {
   "cell_type": "code",
   "execution_count": 24,
   "id": "c1371990",
   "metadata": {},
   "outputs": [],
   "source": [
    "bb_bv = AbsoluteMag_blackbody_b(TempRange)-AbsoluteMag_blackbody_v(TempRange)\n",
    "bb_ub = AbsoluteMag_blackbody_u(TempRange)-AbsoluteMag_blackbody_b(TempRange)"
   ]
  },
  {
   "cell_type": "code",
   "execution_count": 27,
   "id": "4749c096",
   "metadata": {},
   "outputs": [
    {
     "data": {
      "image/png": "[encoded data removed]",
      "text/plain": [
       "<Figure size 432x288 with 2 Axes>"
      ]
     },
     "metadata": {
      "needs_background": "light"
     },
     "output_type": "display_data"
    }
   ],
   "source": [
    "ax = None\n",
    "colors = [\"red\", \"orange\", \"green\", \"blue\", \"purple\",  \"cyan\"]\n",
    "\n",
    "for i, lumclass in enumerate(all_stars[\"lum_class\"].unique()):\n",
    "    hr_points = all_stars[all_stars[\"lum_class\"] == lumclass]\n",
    "    ax = hr_points.plot(x=\"B-V\", y = \"U-B\", ax=ax, kind = \"line\", xlim=(-.6,2.5),ylim=(3,-.6), color=colors[i], label=lumclass, zorder=1)\n",
    "    \n",
    "sc = ax.scatter(all_stars[\"B-V\"], all_stars[\"U-B\"], c=all_stars[\"Temperature\"], cmap=\"bwr_r\", norm=col.LogNorm(), zorder = 2)\n",
    "\n",
    "\n",
    "ax.plot(bb_bv,bb_ub, zorder=3, c=\"black\", label = \"Black Body\")\n",
    "ax.scatter(bb_bv,bb_ub, c=(TempRange), cmap=\"bwr_r\", norm=col.LogNorm(), zorder=4)\n",
    "ax.legend()\n",
    "cor = plt.colorbar(sc)\n",
    "\n",
    "cor.set_label('Temperature K', rotation=90)\n",
    "plt.ylabel(\"U-B\")\n",
    "plt.show()"
   ]
  },
  {
   "cell_type": "code",
   "execution_count": null,
   "id": "4ebcb286",
   "metadata": {},
   "outputs": [],
   "source": [
    "This is the same graph as shown above, but with an ideal blackbody star plotted above. "
   ]
  },
  {
   "cell_type": "markdown",
   "id": "e68d264e",
   "metadata": {},
   "source": [
    " Do you notice any trend? Describe and discuss your findings.\n",
    " The blackbody does look like an ideal star. It follows a constant slope and constant temperature change. It goes along with what the trendline for the others stars' luminosity class trendlines would look like. "
   ]
  },
  {
   "cell_type": "markdown",
   "id": "e0dfebaf",
   "metadata": {},
   "source": [
    "# VEGA"
   ]
  },
  {
   "cell_type": "code",
   "execution_count": 28,
   "id": "aa7ec350",
   "metadata": {},
   "outputs": [],
   "source": [
    "def apparent_magnitude_vega(distance):\n",
    "    Mv=0.6\n",
    "    add = 5 * np.log10(distance)\n",
    "    return Mv + add - 5"
   ]
  },
  {
   "cell_type": "code",
   "execution_count": 29,
   "id": "b7a6b377",
   "metadata": {},
   "outputs": [],
   "source": [
    "distrange = np.logspace(np.log10(4e-6),np.log10(10e6), 50)"
   ]
  },
  {
   "cell_type": "code",
   "execution_count": 30,
   "id": "84652faa",
   "metadata": {},
   "outputs": [
    {
     "data": {
      "image/png": "[encoded data removed]",
      "text/plain": [
       "<Figure size 432x288 with 1 Axes>"
      ]
     },
     "metadata": {
      "needs_background": "light"
     },
     "output_type": "display_data"
    }
   ],
   "source": [
    "plt.plot(distrange,apparent_magnitude_vega(distrange), c=\"green\", label=\"Vega\")\n",
    "plt.xscale(\"log\")\n",
    "plt.xlabel(\"Distance [PC]\")\n",
    "plt.ylabel(\"Apparent Magnitude\") \n",
    "plt.plot(4.84e-6,apparent_magnitude_vega(4.84e-6), marker=\".\", markersize=18, markeredgecolor=\"black\", markerfacecolor=\"purple\", label = \"4.84e-6 PC - 1AU\")\n",
    "plt.plot(7.68,apparent_magnitude_vega(7.68), marker=\".\", markersize=18, markeredgecolor=\"black\", markerfacecolor=\"orange\", label = \"7.68 PC - Vega Dist\")\n",
    "plt.plot(10,apparent_magnitude_vega(10), marker=\".\", markersize=18, markeredgecolor=\"black\", markerfacecolor=\"blue\", label = \"10 PC - Absolute Magnitude\")\n",
    "plt.plot(8.122e3,apparent_magnitude_vega(8.122e3), marker=\".\", markersize=18, markeredgecolor=\"black\", markerfacecolor=\"yellow\", label = \"8.122e3 PC - Sun to Milky Way\")\n",
    "plt.plot(7.78e5,apparent_magnitude_vega(7.78e5), marker=\".\", markersize=18, markeredgecolor=\"black\", markerfacecolor=\"red\", label = \"7.78e5 PC - Dist to Andromeda\")\n",
    "plt.plot(4.84e-6,-26.74, marker=\"*\", markersize=18, markeredgecolor=\"black\", markerfacecolor=\"yellow\", label = \"sun\")\n",
    "plt.legend(bbox_to_anchor=(1.05, 1))\n",
    "plt.show()"
   ]
  },
  {
   "cell_type": "code",
   "execution_count": null,
   "id": "b94bf3a4",
   "metadata": {},
   "outputs": [],
   "source": []
  }
 ],
 "metadata": {
  "kernelspec": {
   "display_name": "Python 3 (ipykernel)",
   "language": "python",
   "name": "python3"
  },
  "language_info": {
   "codemirror_mode": {
    "name": "ipython",
    "version": 3
   },
   "file_extension": ".py",
   "mimetype": "text/x-python",
   "name": "python",
   "nbconvert_exporter": "python",
   "pygments_lexer": "ipython3",
   "version": "3.9.7"
  }
 },
 "nbformat": 4,
 "nbformat_minor": 5
}
